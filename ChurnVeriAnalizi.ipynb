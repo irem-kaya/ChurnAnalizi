{
  "cells": [
    {
      "cell_type": "code",
      "execution_count": null,
      "metadata": {
        "id": "CMoHUqSvNsw9"
      },
      "outputs": [],
      "source": [
        "import pandas as pd\n",
        "import numpy as np\n",
        "import matplotlib.pyplot as plt\n",
        "import seaborn as sns\n",
        "\n",
        "from sklearn.model_selection import train_test_split\n",
        "from sklearn.preprocessing import StandardScaler\n",
        "from sklearn.linear_model import LogisticRegression\n",
        "from sklearn.ensemble import RandomForestClassifier\n",
        "from sklearn.metrics import classification_report, confusion_matrix, roc_auc_score\n",
        "from imblearn.over_sampling import SMOTE\n"
      ]
    },
    {
      "cell_type": "code",
      "execution_count": null,
      "metadata": {
        "id": "FxykeiALPrOl",
        "collapsed": true
      },
      "outputs": [],
      "source": [
        "from google.colab import files\n",
        "files.upload()\n"
      ]
    },
    {
      "cell_type": "code",
      "execution_count": 71,
      "metadata": {
        "colab": {
          "base_uri": "https://localhost:8080/"
        },
        "id": "k231hH2_OnDH",
        "outputId": "2aeb442c-4cff-4f32-aa57-694a76760cf2"
      },
      "outputs": [
        {
          "output_type": "stream",
          "name": "stdout",
          "text": [
            "   customerID  gender  SeniorCitizen Partner Dependents  tenure PhoneService  \\\n",
            "0  7590-VHVEG  Female              0     Yes         No       1           No   \n",
            "1  5575-GNVDE    Male              0      No         No      34          Yes   \n",
            "2  3668-QPYBK    Male              0      No         No       2          Yes   \n",
            "3  7795-CFOCW    Male              0      No         No      45           No   \n",
            "4  9237-HQITU  Female              0      No         No       2          Yes   \n",
            "\n",
            "      MultipleLines InternetService OnlineSecurity  ... DeviceProtection  \\\n",
            "0  No phone service             DSL             No  ...               No   \n",
            "1                No             DSL            Yes  ...              Yes   \n",
            "2                No             DSL            Yes  ...               No   \n",
            "3  No phone service             DSL            Yes  ...              Yes   \n",
            "4                No     Fiber optic             No  ...               No   \n",
            "\n",
            "  TechSupport StreamingTV StreamingMovies        Contract PaperlessBilling  \\\n",
            "0          No          No              No  Month-to-month              Yes   \n",
            "1          No          No              No        One year               No   \n",
            "2          No          No              No  Month-to-month              Yes   \n",
            "3         Yes          No              No        One year               No   \n",
            "4          No          No              No  Month-to-month              Yes   \n",
            "\n",
            "               PaymentMethod MonthlyCharges  TotalCharges Churn  \n",
            "0           Electronic check          29.85         29.85    No  \n",
            "1               Mailed check          56.95        1889.5    No  \n",
            "2               Mailed check          53.85        108.15   Yes  \n",
            "3  Bank transfer (automatic)          42.30       1840.75    No  \n",
            "4           Electronic check          70.70        151.65   Yes  \n",
            "\n",
            "[5 rows x 21 columns]\n"
          ]
        }
      ],
      "source": [
        "import zipfile\n",
        "import pandas as pd\n",
        "\n",
        "# Zip dosyasının yolunu belirtiyoruz (önceden drive'a yüklediysen path verebilirsin)\n",
        "zip_path = 'archive.zip'\n",
        "\n",
        "# Zip dosyasını oku\n",
        "with zipfile.ZipFile(zip_path, 'r') as z:\n",
        "    # İçindeki CSV dosyasını aç ve oku\n",
        "    with z.open('WA_Fn-UseC_-Telco-Customer-Churn.csv') as f:\n",
        "        df = pd.read_csv(f)\n",
        "\n",
        "# Veri geldi mi kontrol edelim\n",
        "print(df.head())\n",
        "\n"
      ]
    },
    {
      "cell_type": "code",
      "execution_count": null,
      "metadata": {
        "id": "zR-hf5oDP8WT"
      },
      "outputs": [],
      "source": [
        "# Veri tipi kontrolü\n",
        "df.info()\n",
        "\n",
        "# Eksik değer kontrolü\n",
        "df.isnull().sum()\n"
      ]
    },
    {
      "cell_type": "code",
      "execution_count": null,
      "metadata": {
        "id": "qQkB76fvP-21"
      },
      "outputs": [],
      "source": [
        "df['TotalCharges'] = pd.to_numeric(df['TotalCharges'], errors='coerce')\n",
        "df['TotalCharges'].fillna(df['TotalCharges'].median(), inplace=True)\n"
      ]
    },
    {
      "cell_type": "code",
      "execution_count": null,
      "metadata": {
        "id": "vXZi3-NfQNfG"
      },
      "outputs": [],
      "source": [
        "df['Churn'] = df['Churn'].map({'Yes': 1, 'No': 0})\n"
      ]
    },
    {
      "cell_type": "code",
      "execution_count": null,
      "metadata": {
        "id": "VTzhz4tEQPzf"
      },
      "outputs": [],
      "source": [
        "df.drop('customerID', axis=1, inplace=True)\n"
      ]
    },
    {
      "cell_type": "code",
      "execution_count": null,
      "metadata": {
        "id": "jALTVSAqQiZx"
      },
      "outputs": [],
      "source": [
        "print(df.info())"
      ]
    },
    {
      "cell_type": "code",
      "execution_count": null,
      "metadata": {
        "id": "7gKAbJ0YQvma"
      },
      "outputs": [],
      "source": [
        "import matplotlib.pyplot as plt\n",
        "import seaborn as sns\n",
        "\n",
        "# Hedef değişken dağılımı\n",
        "plt.figure(figsize=(4,4))\n",
        "df['Churn'].value_counts().plot(kind='pie', autopct='%1.1f%%', startangle=90, colors=['skyblue','salmon'])\n",
        "plt.title('Churn Dağılımı')\n",
        "plt.ylabel('')\n",
        "plt.show()\n",
        "\n",
        "# Contract'a göre Churn\n",
        "plt.figure(figsize=(6,4))\n",
        "sns.countplot(x='Contract', hue='Churn', data=df, palette='Set2')\n",
        "plt.title('Contract Türüne Göre Churn')\n",
        "plt.show()\n",
        "\n",
        "# InternetService'a göre Churn\n",
        "plt.figure(figsize=(6,4))\n",
        "sns.countplot(x='InternetService', hue='Churn', data=df, palette='Set1')\n",
        "plt.title('Internet Service ve Churn')\n",
        "plt.show()\n",
        "\n",
        "# PaymentMethod'a göre Churn\n",
        "plt.figure(figsize=(6,4))\n",
        "sns.countplot(x='PaymentMethod', hue='Churn', data=df, palette='Set3')\n",
        "plt.title('Payment Method ve Churn')\n",
        "plt.xticks(rotation=45)\n",
        "plt.show()\n",
        "\n",
        "# tenure ve MonthlyCharges scatter\n",
        "plt.figure(figsize=(6,4))\n",
        "sns.scatterplot(x='tenure', y='MonthlyCharges', hue='Churn', data=df)\n",
        "plt.title('tenure ve MonthlyCharges')\n",
        "plt.show()\n"
      ]
    },
    {
      "cell_type": "code",
      "execution_count": null,
      "metadata": {
        "id": "N6GWdHZ6QzKQ"
      },
      "outputs": [],
      "source": [
        "cat_cols = df.select_dtypes(include=['object']).columns.tolist()\n",
        "print(cat_cols)\n"
      ]
    },
    {
      "cell_type": "code",
      "execution_count": null,
      "metadata": {
        "id": "Ilz1eegrRwrq"
      },
      "outputs": [],
      "source": [
        "# One-hot encoding\n",
        "df_encoded = pd.get_dummies(df, drop_first=True)\n",
        "\n",
        "# Kontrol edelim\n",
        "print(df_encoded.head())\n"
      ]
    },
    {
      "cell_type": "code",
      "execution_count": 72,
      "metadata": {
        "id": "npI7mlSPR7df"
      },
      "outputs": [],
      "source": [
        "X = df_encoded.drop('Churn', axis=1)\n",
        "y = df_encoded['Churn']\n"
      ]
    },
    {
      "cell_type": "code",
      "execution_count": null,
      "metadata": {
        "id": "dZ-CiyYnSBf8"
      },
      "outputs": [],
      "source": [
        "from sklearn.model_selection import train_test_split\n",
        "\n",
        "X_train, X_test, y_train, y_test = train_test_split(X, y, test_size=0.20, random_state=42, stratify=y)\n"
      ]
    },
    {
      "cell_type": "code",
      "execution_count": null,
      "metadata": {
        "id": "0T0el8-iSlcM"
      },
      "outputs": [],
      "source": [
        "from imblearn.over_sampling import SMOTE\n",
        "\n",
        "sm = SMOTE(random_state=42)\n",
        "X_train_res, y_train_res = sm.fit_resample(X_train, y_train)\n"
      ]
    },
    {
      "cell_type": "code",
      "execution_count": 73,
      "metadata": {
        "id": "4lGAFaGHSn2X"
      },
      "outputs": [],
      "source": [
        "from sklearn.preprocessing import StandardScaler\n",
        "\n",
        "scaler = StandardScaler()\n",
        "X_train_res_scaled = scaler.fit_transform(X_train_res)\n",
        "X_test_scaled = scaler.transform(X_test)\n"
      ]
    },
    {
      "cell_type": "code",
      "execution_count": null,
      "metadata": {
        "id": "TltaluYdSrfn"
      },
      "outputs": [],
      "source": [
        "from sklearn.linear_model import LogisticRegression\n",
        "\n",
        "model = LogisticRegression(max_iter=1000, random_state=42)\n",
        "model.fit(X_train_res_scaled, y_train_res)\n"
      ]
    },
    {
      "cell_type": "code",
      "execution_count": null,
      "metadata": {
        "id": "ZpOSROIxStKA"
      },
      "outputs": [],
      "source": [
        "y_pred = model.predict(X_test_scaled)\n",
        "y_proba = model.predict_proba(X_test_scaled)[:, 1]\n"
      ]
    },
    {
      "cell_type": "code",
      "execution_count": null,
      "metadata": {
        "id": "PvlRtTgnSyV1"
      },
      "outputs": [],
      "source": [
        "from sklearn.metrics import classification_report, confusion_matrix, roc_auc_score\n",
        "\n",
        "print(confusion_matrix(y_test, y_pred))\n",
        "print(classification_report(y_test, y_pred))\n",
        "print(\"ROC-AUC:\", roc_auc_score(y_test, y_proba))\n"
      ]
    },
    {
      "cell_type": "code",
      "execution_count": null,
      "metadata": {
        "id": "Nr-jSj5qTGkF"
      },
      "outputs": [],
      "source": [
        "from sklearn.ensemble import RandomForestClassifier\n",
        "\n",
        "# Random Forest modeli\n",
        "rf_model = RandomForestClassifier(n_estimators=100, random_state=42, class_weight='balanced')\n",
        "\n",
        "# SMOTE sonrası veriyi kullanalım\n",
        "rf_model.fit(X_train_res, y_train_res)\n"
      ]
    },
    {
      "cell_type": "code",
      "execution_count": null,
      "metadata": {
        "id": "phDZVi4hTJj6"
      },
      "outputs": [],
      "source": [
        "# Tahmin\n",
        "y_pred_rf = rf_model.predict(X_test)\n",
        "y_proba_rf = rf_model.predict_proba(X_test)[:, 1]\n",
        "\n",
        "# Performans metrikleri\n",
        "from sklearn.metrics import classification_report, confusion_matrix, roc_auc_score\n",
        "\n",
        "print(confusion_matrix(y_test, y_pred_rf))\n",
        "print(classification_report(y_test, y_pred_rf))\n",
        "print(\"ROC-AUC:\", roc_auc_score(y_test, y_proba_rf))\n"
      ]
    },
    {
      "cell_type": "code",
      "execution_count": null,
      "metadata": {
        "id": "1qYrhcdUTOC5"
      },
      "outputs": [],
      "source": [
        "import pandas as pd\n",
        "import matplotlib.pyplot as plt\n",
        "\n",
        "# Feature importance\n",
        "importances = pd.Series(rf_model.feature_importances_, index=X.columns)\n",
        "importances.sort_values().plot(kind='barh', figsize=(10,8))\n",
        "plt.title(\"Feature Importances - Random Forest\")\n",
        "plt.show()\n"
      ]
    },
    {
      "cell_type": "code",
      "execution_count": null,
      "metadata": {
        "id": "w1CsQ2z2ULR-"
      },
      "outputs": [],
      "source": [
        "!pip install xgboost\n"
      ]
    },
    {
      "cell_type": "code",
      "execution_count": null,
      "metadata": {
        "id": "8doCwMlmUNFw"
      },
      "outputs": [],
      "source": [
        "import xgboost as xgb\n",
        "from xgboost import XGBClassifier\n"
      ]
    },
    {
      "cell_type": "code",
      "execution_count": null,
      "metadata": {
        "id": "Ita4j44iURac"
      },
      "outputs": [],
      "source": [
        "xgb_model = XGBClassifier(\n",
        "    n_estimators=100,\n",
        "    learning_rate=0.1,\n",
        "    max_depth=4,\n",
        "    random_state=42,\n",
        "    scale_pos_weight=1  # class weight dengesini kontrol etmek için\n",
        ")\n",
        "\n",
        "xgb_model.fit(X_train_res, y_train_res)\n"
      ]
    },
    {
      "cell_type": "code",
      "execution_count": null,
      "metadata": {
        "id": "ysn7nSAIUUyP"
      },
      "outputs": [],
      "source": [
        "y_pred_xgb = xgb_model.predict(X_test)\n",
        "y_proba_xgb = xgb_model.predict_proba(X_test)[:, 1]\n",
        "\n",
        "from sklearn.metrics import classification_report, confusion_matrix, roc_auc_score\n",
        "\n",
        "print(confusion_matrix(y_test, y_pred_xgb))\n",
        "print(classification_report(y_test, y_pred_xgb))\n",
        "print(\"ROC-AUC:\", roc_auc_score(y_test, y_proba_xgb))\n"
      ]
    },
    {
      "cell_type": "code",
      "execution_count": null,
      "metadata": {
        "id": "92vjqm4sUZe1"
      },
      "outputs": [],
      "source": [
        "import matplotlib.pyplot as plt\n",
        "\n",
        "xgb.plot_importance(xgb_model, height=0.8, max_num_features=20)\n",
        "plt.show()\n"
      ]
    },
    {
      "cell_type": "code",
      "execution_count": null,
      "metadata": {
        "id": "CS9T_yw8Upxe"
      },
      "outputs": [],
      "source": [
        "from sklearn.model_selection import GridSearchCV\n",
        "from xgboost import XGBClassifier\n"
      ]
    },
    {
      "cell_type": "code",
      "execution_count": null,
      "metadata": {
        "id": "zDHpkQy1UvSB"
      },
      "outputs": [],
      "source": [
        "param_grid = {\n",
        "    'n_estimators': [100, 200],\n",
        "    'max_depth': [3, 4, 5],\n",
        "    'learning_rate': [0.05, 0.1, 0.2],\n",
        "    'subsample': [0.8, 1],\n",
        "    'colsample_bytree': [0.8, 1]\n",
        "}\n"
      ]
    },
    {
      "cell_type": "code",
      "execution_count": null,
      "metadata": {
        "id": "6fLMlFSSUyka"
      },
      "outputs": [],
      "source": [
        "xgb = XGBClassifier(random_state=42)\n",
        "\n",
        "grid_search = GridSearchCV(estimator=xgb, param_grid=param_grid,\n",
        "                           scoring='roc_auc', cv=3, verbose=2, n_jobs=-1)\n",
        "\n",
        "grid_search.fit(X_train_res, y_train_res)\n"
      ]
    },
    {
      "cell_type": "code",
      "execution_count": null,
      "metadata": {
        "id": "K2FWb37UU32v"
      },
      "outputs": [],
      "source": [
        "print(\"Best parameters:\", grid_search.best_params_)\n",
        "print(\"Best ROC-AUC:\", grid_search.best_score_)\n"
      ]
    },
    {
      "cell_type": "code",
      "execution_count": null,
      "metadata": {
        "id": "fVZ7ySonU6VA"
      },
      "outputs": [],
      "source": [
        "best_model = grid_search.best_estimator_\n",
        "\n",
        "y_pred_best = best_model.predict(X_test)\n",
        "y_proba_best = best_model.predict_proba(X_test)[:, 1]\n",
        "\n",
        "from sklearn.metrics import classification_report, confusion_matrix, roc_auc_score\n",
        "\n",
        "print(confusion_matrix(y_test, y_pred_best))\n",
        "print(classification_report(y_test, y_pred_best))\n",
        "print(\"ROC-AUC:\", roc_auc_score(y_test, y_proba_best))\n"
      ]
    },
    {
      "cell_type": "code",
      "execution_count": null,
      "metadata": {
        "id": "icDIy6QvV3Wz"
      },
      "outputs": [],
      "source": [
        "from sklearn.metrics import accuracy_score, precision_score, recall_score, f1_score, roc_auc_score\n",
        "\n",
        "# Tahminleri tekrar hatırlatalım (zaten elinde var)\n",
        "# y_test, y_pred_best, y_proba_best\n",
        "\n",
        "# Skorları hesapla\n",
        "acc = accuracy_score(y_test, y_pred_best)\n",
        "prec = precision_score(y_test, y_pred_best)\n",
        "rec = recall_score(y_test, y_pred_best)\n",
        "f1 = f1_score(y_test, y_pred_best)\n",
        "roc = roc_auc_score(y_test, y_proba_best)\n",
        "\n",
        "# Çıktıyı bastır\n",
        "print(\"===== Model Performans Özeti =====\")\n",
        "print(f\"Accuracy  : {acc:.2%}\")\n",
        "print(f\"Precision : {prec:.2%}\")\n",
        "print(f\"Recall    : {rec:.2%}\")\n",
        "print(f\"F1-Score  : {f1:.2%}\")\n",
        "print(f\"ROC-AUC   : {roc:.2%}\")\n",
        "print(\"===================================\")\n"
      ]
    },
    {
      "cell_type": "code",
      "execution_count": null,
      "metadata": {
        "id": "cvrb4BIDWMlF"
      },
      "outputs": [],
      "source": [
        "#+1 koyuyoruz çünkü tenure=0 olanlar var → sıfıra bölme hatasını engellemek için.\n",
        "df['AvgMonthlyCharge'] = df['TotalCharges'] / (df['tenure'] + 1)\n"
      ]
    },
    {
      "cell_type": "code",
      "execution_count": null,
      "metadata": {
        "id": "3X8k_v3xWX1w"
      },
      "outputs": [],
      "source": [
        "def tenure_group(tenure):\n",
        "    if tenure <= 12:\n",
        "        return '0-1 year'\n",
        "    elif tenure <= 24:\n",
        "        return '1-2 year'\n",
        "    elif tenure <= 48:\n",
        "        return '2-4 year'\n",
        "    elif tenure <= 60:\n",
        "        return '4-5 year'\n",
        "    else:\n",
        "        return '5+ year'\n",
        "\n",
        "df['TenureGroup'] = df['tenure'].apply(tenure_group)\n"
      ]
    },
    {
      "cell_type": "code",
      "execution_count": null,
      "metadata": {
        "id": "quSKYT19Wbhh"
      },
      "outputs": [],
      "source": [
        "services = ['PhoneService', 'MultipleLines', 'InternetService',\n",
        "            'OnlineSecurity', 'OnlineBackup', 'DeviceProtection',\n",
        "            'TechSupport', 'StreamingTV', 'StreamingMovies']\n",
        "\n",
        "df['TotalServices'] = df[services].apply(lambda x: sum(x == 'Yes'), axis=1)\n"
      ]
    },
    {
      "cell_type": "code",
      "execution_count": null,
      "metadata": {
        "id": "9rU1PLU7WcuG"
      },
      "outputs": [],
      "source": [
        "df_encoded = pd.get_dummies(df, drop_first=True)\n"
      ]
    },
    {
      "cell_type": "code",
      "execution_count": null,
      "metadata": {
        "id": "WoGZNvOrWrKl"
      },
      "outputs": [],
      "source": [
        "X = df_encoded.drop('Churn', axis=1)\n",
        "y = df_encoded['Churn']\n"
      ]
    },
    {
      "cell_type": "code",
      "execution_count": null,
      "metadata": {
        "id": "DdbeBOuNWtvE"
      },
      "outputs": [],
      "source": [
        "from sklearn.model_selection import train_test_split\n",
        "\n",
        "X_train, X_test, y_train, y_test = train_test_split(X, y,\n",
        "    test_size=0.20, random_state=42, stratify=y)\n"
      ]
    },
    {
      "cell_type": "code",
      "execution_count": null,
      "metadata": {
        "id": "D92TIzrhWv2q"
      },
      "outputs": [],
      "source": [
        "from imblearn.over_sampling import SMOTE\n",
        "\n",
        "sm = SMOTE(random_state=42)\n",
        "X_train_res, y_train_res = sm.fit_resample(X_train, y_train)\n"
      ]
    },
    {
      "cell_type": "code",
      "execution_count": null,
      "metadata": {
        "id": "4IbegWh8WyFA"
      },
      "outputs": [],
      "source": [
        "from sklearn.model_selection import GridSearchCV\n",
        "from xgboost import XGBClassifier\n",
        "\n",
        "param_grid = {\n",
        "    'n_estimators': [100, 200],\n",
        "    'max_depth': [3, 4, 5],\n",
        "    'learning_rate': [0.05, 0.1, 0.2],\n",
        "    'subsample': [0.8, 1],\n",
        "    'colsample_bytree': [0.8, 1]\n",
        "}\n",
        "\n",
        "xgb = XGBClassifier(random_state=42)\n",
        "\n",
        "grid_search = GridSearchCV(estimator=xgb, param_grid=param_grid,\n",
        "                           scoring='roc_auc', cv=3, verbose=2, n_jobs=-1)\n",
        "\n",
        "grid_search.fit(X_train_res, y_train_res)\n"
      ]
    },
    {
      "cell_type": "code",
      "execution_count": null,
      "metadata": {
        "id": "S1JoXRnQW1YW"
      },
      "outputs": [],
      "source": [
        "best_model = grid_search.best_estimator_\n",
        "\n",
        "y_pred_best = best_model.predict(X_test)\n",
        "y_proba_best = best_model.predict_proba(X_test)[:, 1]\n",
        "\n",
        "from sklearn.metrics import accuracy_score, precision_score, recall_score, f1_score, roc_auc_score, classification_report, confusion_matrix\n",
        "\n",
        "# Kısa özet çıktı\n",
        "acc = accuracy_score(y_test, y_pred_best)\n",
        "prec = precision_score(y_test, y_pred_best)\n",
        "rec = recall_score(y_test, y_pred_best)\n",
        "f1 = f1_score(y_test, y_pred_best)\n",
        "roc = roc_auc_score(y_test, y_proba_best)\n",
        "\n",
        "print(\"===== Model Performans Özeti =====\")\n",
        "print(f\"Accuracy  : {acc:.2%}\")\n",
        "print(f\"Precision : {prec:.2%}\")\n",
        "print(f\"Recall    : {rec:.2%}\")\n",
        "print(f\"F1-Score  : {f1:.2%}\")\n",
        "print(f\"ROC-AUC   : {roc:.2%}\")\n",
        "print(\"===================================\")\n"
      ]
    },
    {
      "cell_type": "code",
      "execution_count": null,
      "metadata": {
        "id": "TGl4briyX3RT"
      },
      "outputs": [],
      "source": [
        "# TotalCharges / tenure (zaten yapmıştık), ek interaction:\n",
        "df['ChargeTenureInteraction'] = df['MonthlyCharges'] * (df['tenure'] + 1)\n"
      ]
    },
    {
      "cell_type": "code",
      "execution_count": null,
      "metadata": {
        "id": "XGUW-qM0X5rT"
      },
      "outputs": [],
      "source": [
        "df_encoded = pd.get_dummies(df, drop_first=True)\n"
      ]
    },
    {
      "cell_type": "code",
      "execution_count": null,
      "metadata": {
        "id": "v4no21onX70X"
      },
      "outputs": [],
      "source": [
        "X = df_encoded.drop('Churn', axis=1)\n",
        "y = df_encoded['Churn']\n"
      ]
    },
    {
      "cell_type": "code",
      "execution_count": null,
      "metadata": {
        "id": "O2oQvFu6X9-y"
      },
      "outputs": [],
      "source": [
        "from sklearn.model_selection import train_test_split\n",
        "\n",
        "X_train, X_test, y_train, y_test = train_test_split(\n",
        "    X, y, test_size=0.20, random_state=42, stratify=y)\n"
      ]
    },
    {
      "cell_type": "code",
      "execution_count": null,
      "metadata": {
        "id": "9gOrImNKYAS7"
      },
      "outputs": [],
      "source": [
        "from imblearn.combine import SMOTEENN\n",
        "\n",
        "smote_enn = SMOTEENN(random_state=42)\n",
        "X_train_res, y_train_res = smote_enn.fit_resample(X_train, y_train)\n"
      ]
    },
    {
      "cell_type": "code",
      "execution_count": null,
      "metadata": {
        "id": "0VTgRJtxYDHn"
      },
      "outputs": [],
      "source": [
        "from sklearn.model_selection import GridSearchCV\n",
        "from xgboost import XGBClassifier\n",
        "\n",
        "param_grid = {\n",
        "    'n_estimators': [100, 200, 300],\n",
        "    'max_depth': [3, 4, 5, 6],\n",
        "    'learning_rate': [0.05, 0.1],\n",
        "    'subsample': [0.8, 1],\n",
        "    'colsample_bytree': [0.8, 1]\n",
        "}\n",
        "\n",
        "xgb = XGBClassifier(random_state=42)\n",
        "\n",
        "grid_search = GridSearchCV(\n",
        "    estimator=xgb, param_grid=param_grid,\n",
        "    scoring='roc_auc', cv=3, verbose=2, n_jobs=-1)\n",
        "\n",
        "grid_search.fit(X_train_res, y_train_res)\n"
      ]
    },
    {
      "cell_type": "code",
      "execution_count": 74,
      "metadata": {
        "id": "aghzKMn0YEeq",
        "colab": {
          "base_uri": "https://localhost:8080/"
        },
        "outputId": "56768c80-ed63-4f37-beb5-8d21c46cd1b0"
      },
      "outputs": [
        {
          "output_type": "stream",
          "name": "stdout",
          "text": [
            "===== Boost Model Performans Özeti =====\n",
            "Accuracy  : 75.51%\n",
            "Precision : 52.84%\n",
            "Recall    : 72.19%\n",
            "F1-Score  : 61.02%\n",
            "ROC-AUC   : 82.92%\n",
            "===================================\n"
          ]
        }
      ],
      "source": [
        "best_model = grid_search.best_estimator_\n",
        "\n",
        "y_pred_best = best_model.predict(X_test)\n",
        "y_proba_best = best_model.predict_proba(X_test)[:, 1]\n",
        "\n",
        "from sklearn.metrics import accuracy_score, precision_score, recall_score, f1_score, roc_auc_score\n",
        "\n",
        "acc = accuracy_score(y_test, y_pred_best)\n",
        "prec = precision_score(y_test, y_pred_best)\n",
        "rec = recall_score(y_test, y_pred_best)\n",
        "f1 = f1_score(y_test, y_pred_best)\n",
        "roc = roc_auc_score(y_test, y_proba_best)\n",
        "\n",
        "print(\"===== Boost Model Performans Özeti =====\")\n",
        "print(f\"Accuracy  : {acc:.2%}\")\n",
        "print(f\"Precision : {prec:.2%}\")\n",
        "print(f\"Recall    : {rec:.2%}\")\n",
        "print(f\"F1-Score  : {f1:.2%}\")\n",
        "print(f\"ROC-AUC   : {roc:.2%}\")\n",
        "print(\"===================================\")\n"
      ]
    },
    {
      "cell_type": "code",
      "execution_count": null,
      "metadata": {
        "id": "Jgh1iA3gYxnr"
      },
      "outputs": [],
      "source": [
        "import numpy as np\n",
        "from sklearn.metrics import roc_curve\n",
        "\n",
        "# ROC curve hesapla\n",
        "fpr, tpr, thresholds = roc_curve(y_test, y_proba_best)\n",
        "\n",
        "# Youden's J statistic (tpr - fpr) ile en iyi threshold bulma\n",
        "optimal_idx = np.argmax(tpr - fpr)\n",
        "optimal_threshold = thresholds[optimal_idx]\n",
        "\n",
        "print(f\"Optimal threshold: {optimal_threshold}\")\n"
      ]
    },
    {
      "cell_type": "code",
      "execution_count": null,
      "metadata": {
        "id": "m2TbPdzYYz5u"
      },
      "outputs": [],
      "source": [
        "# Yeni tahminleri yap\n",
        "y_pred_optimal = (y_proba_best >= optimal_threshold).astype(int)\n"
      ]
    },
    {
      "cell_type": "code",
      "execution_count": 75,
      "metadata": {
        "id": "2ZzmQ0WIY12K",
        "colab": {
          "base_uri": "https://localhost:8080/"
        },
        "outputId": "12b3ca58-828a-4890-f2db-8295bb81cb4e"
      },
      "outputs": [
        {
          "output_type": "stream",
          "name": "stdout",
          "text": [
            "===== Threshold Tuned Model Performans Özeti =====\n",
            "Accuracy  : 72.25%\n",
            "Precision : 48.64%\n",
            "Recall    : 81.02%\n",
            "F1-Score  : 60.78%\n",
            "ROC-AUC   : 82.92%\n",
            "===================================\n"
          ]
        }
      ],
      "source": [
        "from sklearn.metrics import accuracy_score, precision_score, recall_score, f1_score, confusion_matrix, roc_auc_score\n",
        "\n",
        "acc = accuracy_score(y_test, y_pred_optimal)\n",
        "prec = precision_score(y_test, y_pred_optimal)\n",
        "rec = recall_score(y_test, y_pred_optimal)\n",
        "f1 = f1_score(y_test, y_pred_optimal)\n",
        "roc = roc_auc_score(y_test, y_proba_best)\n",
        "\n",
        "print(\"===== Threshold Tuned Model Performans Özeti =====\")\n",
        "print(f\"Accuracy  : {acc:.2%}\")\n",
        "print(f\"Precision : {prec:.2%}\")\n",
        "print(f\"Recall    : {rec:.2%}\")\n",
        "print(f\"F1-Score  : {f1:.2%}\")\n",
        "print(f\"ROC-AUC   : {roc:.2%}\")\n",
        "print(\"===================================\")\n"
      ]
    },
    {
      "cell_type": "code",
      "execution_count": 76,
      "metadata": {
        "id": "VUtbW28qZ-ud",
        "colab": {
          "base_uri": "https://localhost:8080/"
        },
        "outputId": "e825b703-d994-4502-944b-7f7e426c1919"
      },
      "outputs": [
        {
          "output_type": "stream",
          "name": "stderr",
          "text": [
            "/usr/local/lib/python3.11/dist-packages/sklearn/linear_model/_logistic.py:465: ConvergenceWarning: lbfgs failed to converge (status=1):\n",
            "STOP: TOTAL NO. OF ITERATIONS REACHED LIMIT.\n",
            "\n",
            "Increase the number of iterations (max_iter) or scale the data as shown in:\n",
            "    https://scikit-learn.org/stable/modules/preprocessing.html\n",
            "Please also refer to the documentation for alternative solver options:\n",
            "    https://scikit-learn.org/stable/modules/linear_model.html#logistic-regression\n",
            "  n_iter_i = _check_optimize_result(\n"
          ]
        },
        {
          "output_type": "stream",
          "name": "stdout",
          "text": [
            "===== Ensemble Model Performans Özeti =====\n",
            "Accuracy  : 75.37%\n",
            "Precision : 52.60%\n",
            "Recall    : 72.99%\n",
            "F1-Score  : 61.14%\n",
            "ROC-AUC   : 83.69%\n",
            "===================================\n"
          ]
        }
      ],
      "source": [
        "from sklearn.ensemble import VotingClassifier\n",
        "\n",
        "# Ana modeller\n",
        "from sklearn.linear_model import LogisticRegression\n",
        "from sklearn.ensemble import RandomForestClassifier\n",
        "from xgboost import XGBClassifier\n",
        "\n",
        "# Modelleri tanımla\n",
        "lr = LogisticRegression(max_iter=1000, random_state=42)\n",
        "rf = RandomForestClassifier(n_estimators=100, random_state=42)\n",
        "xgb = XGBClassifier(n_estimators=200, learning_rate=0.1, max_depth=4, random_state=42)\n",
        "\n",
        "# Ensemble modeli\n",
        "ensemble = VotingClassifier(estimators=[\n",
        "    ('lr', lr),\n",
        "    ('rf', rf),\n",
        "    ('xgb', xgb)\n",
        "], voting='soft')  # soft voting: probability ortalaması\n",
        "\n",
        "# SMOTE/SMOTEENN uygulanmış train seti ile eğit\n",
        "ensemble.fit(X_train_res, y_train_res)\n",
        "\n",
        "# Tahmin yap\n",
        "y_pred_ens = ensemble.predict(X_test)\n",
        "y_proba_ens = ensemble.predict_proba(X_test)[:, 1]\n",
        "\n",
        "# Performans ölç\n",
        "from sklearn.metrics import accuracy_score, precision_score, recall_score, f1_score, roc_auc_score\n",
        "\n",
        "acc = accuracy_score(y_test, y_pred_ens)\n",
        "prec = precision_score(y_test, y_pred_ens)\n",
        "rec = recall_score(y_test, y_pred_ens)\n",
        "f1 = f1_score(y_test, y_pred_ens)\n",
        "roc = roc_auc_score(y_test, y_proba_ens)\n",
        "\n",
        "print(\"===== Ensemble Model Performans Özeti =====\")\n",
        "print(f\"Accuracy  : {acc:.2%}\")\n",
        "print(f\"Precision : {prec:.2%}\")\n",
        "print(f\"Recall    : {rec:.2%}\")\n",
        "print(f\"F1-Score  : {f1:.2%}\")\n",
        "print(f\"ROC-AUC   : {roc:.2%}\")\n",
        "print(\"===================================\")\n"
      ]
    },
    {
      "cell_type": "code",
      "execution_count": null,
      "metadata": {
        "id": "vSm3Q2gSaVPC"
      },
      "outputs": [],
      "source": [
        "from sklearn.ensemble import StackingClassifier\n",
        "from sklearn.linear_model import LogisticRegression\n",
        "from sklearn.ensemble import RandomForestClassifier\n",
        "from xgboost import XGBClassifier\n"
      ]
    },
    {
      "cell_type": "code",
      "execution_count": null,
      "metadata": {
        "id": "6i5sZTpjaYZt"
      },
      "outputs": [],
      "source": [
        "# Base modeller\n",
        "lr = LogisticRegression(max_iter=1000, random_state=42)\n",
        "rf = RandomForestClassifier(n_estimators=100, random_state=42)\n",
        "xgb = XGBClassifier(n_estimators=200, learning_rate=0.1, max_depth=4, random_state=42)\n"
      ]
    },
    {
      "cell_type": "code",
      "execution_count": null,
      "metadata": {
        "id": "OjD2Ttw8aa9q"
      },
      "outputs": [],
      "source": [
        "# Meta model: Logistic Regression\n",
        "stacking_model = StackingClassifier(\n",
        "    estimators=[\n",
        "        ('lr', lr),\n",
        "        ('rf', rf),\n",
        "        ('xgb', xgb)\n",
        "    ],\n",
        "    final_estimator=LogisticRegression(),\n",
        "    cv=3,\n",
        "    n_jobs=-1\n",
        ")\n"
      ]
    },
    {
      "cell_type": "code",
      "execution_count": null,
      "metadata": {
        "id": "nscQm6f5ab71"
      },
      "outputs": [],
      "source": [
        "# SMOTEENN sonrası dengelenmiş veriyi kullanıyoruz\n",
        "stacking_model.fit(X_train_res, y_train_res)\n"
      ]
    },
    {
      "cell_type": "code",
      "execution_count": 77,
      "metadata": {
        "colab": {
          "base_uri": "https://localhost:8080/"
        },
        "id": "-05EDU6Lafzg",
        "outputId": "fb01e061-274f-4093-8df1-bf42f5d8758c"
      },
      "outputs": [
        {
          "output_type": "stream",
          "name": "stdout",
          "text": [
            "===== STACKING Model Performans Özeti =====\n",
            "Accuracy  : 74.17%\n",
            "Precision : 50.92%\n",
            "Recall    : 74.33%\n",
            "F1-Score  : 60.43%\n",
            "ROC-AUC   : 83.15%\n",
            "===================================\n",
            "[[794 241]\n",
            " [104 270]]\n",
            "              precision    recall  f1-score   support\n",
            "\n",
            "           0       0.88      0.77      0.82      1035\n",
            "           1       0.53      0.72      0.61       374\n",
            "\n",
            "    accuracy                           0.76      1409\n",
            "   macro avg       0.71      0.74      0.72      1409\n",
            "weighted avg       0.79      0.76      0.77      1409\n",
            "\n",
            "ROC-AUC: 0.8292050944224857\n"
          ]
        }
      ],
      "source": [
        "y_pred_stack = stacking_model.predict(X_test)\n",
        "y_proba_stack = stacking_model.predict_proba(X_test)[:, 1]\n",
        "\n",
        "from sklearn.metrics import accuracy_score, precision_score, recall_score, f1_score, roc_auc_score\n",
        "\n",
        "acc = accuracy_score(y_test, y_pred_stack)\n",
        "prec = precision_score(y_test, y_pred_stack)\n",
        "rec = recall_score(y_test, y_pred_stack)\n",
        "f1 = f1_score(y_test, y_pred_stack)\n",
        "roc = roc_auc_score(y_test, y_proba_stack)\n",
        "\n",
        "print(\"===== STACKING Model Performans Özeti =====\")\n",
        "print(f\"Accuracy  : {acc:.2%}\")\n",
        "print(f\"Precision : {prec:.2%}\")\n",
        "print(f\"Recall    : {rec:.2%}\")\n",
        "print(f\"F1-Score  : {f1:.2%}\")\n",
        "print(f\"ROC-AUC   : {roc:.2%}\")\n",
        "print(\"===================================\")\n",
        "print(confusion_matrix(y_test, y_pred_best))\n",
        "print(classification_report(y_test, y_pred_best))\n",
        "print(\"ROC-AUC:\", roc_auc_score(y_test, y_proba_best))\n"
      ]
    }
  ],
  "metadata": {
    "colab": {
      "provenance": []
    },
    "kernelspec": {
      "display_name": "Python 3",
      "name": "python3"
    },
    "language_info": {
      "name": "python"
    }
  },
  "nbformat": 4,
  "nbformat_minor": 0
}